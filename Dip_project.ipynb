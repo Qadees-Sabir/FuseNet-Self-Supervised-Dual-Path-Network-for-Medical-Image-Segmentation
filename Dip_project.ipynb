{
  "cells": [
    {
      "cell_type": "markdown",
      "metadata": {
        "id": "view-in-github",
        "colab_type": "text"
      },
      "source": [
        "<a href=\"https://colab.research.google.com/github/Qadees-Sabir/FuseNet-Self-Supervised-Dual-Path-Network-for-Medical-Image-Segmentation/blob/main/Dip_project.ipynb\" target=\"_parent\"><img src=\"https://colab.research.google.com/assets/colab-badge.svg\" alt=\"Open In Colab\"/></a>"
      ]
    },
    {
      "cell_type": "code",
      "execution_count": null,
      "metadata": {
        "id": "IVJ4mS9VGIiU"
      },
      "outputs": [],
      "source": [],
      "id": "IVJ4mS9VGIiU"
    },
    {
      "cell_type": "code",
      "execution_count": null,
      "metadata": {
        "id": "0bbea43e"
      },
      "outputs": [],
      "source": [],
      "id": "0bbea43e"
    },
    {
      "cell_type": "markdown",
      "metadata": {
        "id": "5bd16b8a"
      },
      "source": [
        "# FuseNet: Self-Supervised Dual-Path Network for Medical Image Segmentation <br>"
      ],
      "id": "5bd16b8a"
    },
    {
      "cell_type": "code",
      "execution_count": null,
      "metadata": {
        "colab": {
          "base_uri": "https://localhost:8080/"
        },
        "id": "k4Z1iykFGUs9",
        "outputId": "5f4d34cd-0591-4ee9-cbff-e259284fcf54"
      },
      "outputs": [
        {
          "output_type": "stream",
          "name": "stdout",
          "text": [
            "Mounted at /content/drive\n"
          ]
        }
      ],
      "source": [
        "from google.colab import drive\n",
        "drive.mount('/content/drive')"
      ],
      "id": "k4Z1iykFGUs9"
    },
    {
      "cell_type": "code",
      "execution_count": null,
      "metadata": {
        "colab": {
          "base_uri": "https://localhost:8080/"
        },
        "id": "BHztyfoFGUpe",
        "outputId": "05c29d38-11c0-4727-d407-c0e52b8643ee"
      },
      "outputs": [
        {
          "output_type": "stream",
          "name": "stdout",
          "text": [
            "/content/drive/MyDrive/FuseNet-main\n"
          ]
        }
      ],
      "source": [
        "%cd /content/drive/MyDrive/FuseNet-main"
      ],
      "id": "BHztyfoFGUpe"
    },
    {
      "cell_type": "code",
      "execution_count": null,
      "metadata": {
        "colab": {
          "base_uri": "https://localhost:8080/"
        },
        "id": "mOq2HrTDGUmu",
        "outputId": "72545b66-b97a-4d8b-e97a-074887e87324"
      },
      "outputs": [
        {
          "output_type": "stream",
          "name": "stdout",
          "text": [
            "Collecting utils\n",
            "  Downloading utils-1.0.2.tar.gz (13 kB)\n",
            "  Preparing metadata (setup.py) ... \u001b[?25l\u001b[?25hdone\n",
            "Building wheels for collected packages: utils\n",
            "  Building wheel for utils (setup.py) ... \u001b[?25l\u001b[?25hdone\n",
            "  Created wheel for utils: filename=utils-1.0.2-py2.py3-none-any.whl size=13905 sha256=a508ccbdea83cdc8d2eb4d31bac4c5e90460f6f92a6f99bd2e212ecda88b93fa\n",
            "  Stored in directory: /root/.cache/pip/wheels/b8/39/f5/9d0ca31dba85773ececf0a7f5469f18810e1c8a8ed9da28ca7\n",
            "Successfully built utils\n",
            "Installing collected packages: utils\n",
            "Successfully installed utils-1.0.2\n"
          ]
        }
      ],
      "source": [
        "!pip install utils"
      ],
      "id": "mOq2HrTDGUmu"
    },
    {
      "cell_type": "code",
      "source": [
        "!pip install einops"
      ],
      "metadata": {
        "colab": {
          "base_uri": "https://localhost:8080/"
        },
        "id": "86PSuepc5_67",
        "outputId": "84b0629d-18d0-4bf8-a582-f600c307a8c0"
      },
      "id": "86PSuepc5_67",
      "execution_count": null,
      "outputs": [
        {
          "output_type": "stream",
          "name": "stdout",
          "text": [
            "Collecting einops\n",
            "  Downloading einops-0.7.0-py3-none-any.whl (44 kB)\n",
            "\u001b[?25l     \u001b[90m━━━━━━━━━━━━━━━━━━━━━━━━━━━━━━━━━━━━━━━━\u001b[0m \u001b[32m0.0/44.6 kB\u001b[0m \u001b[31m?\u001b[0m eta \u001b[36m-:--:--\u001b[0m\r\u001b[2K     \u001b[90m━━━━━━━━━━━━━━━━━━━━━━━━━━━━━━━━━━━━━━━━\u001b[0m \u001b[32m44.6/44.6 kB\u001b[0m \u001b[31m1.5 MB/s\u001b[0m eta \u001b[36m0:00:00\u001b[0m\n",
            "\u001b[?25hInstalling collected packages: einops\n",
            "Successfully installed einops-0.7.0\n"
          ]
        }
      ]
    },
    {
      "cell_type": "code",
      "source": [
        "!pip install model_utils"
      ],
      "metadata": {
        "colab": {
          "base_uri": "https://localhost:8080/"
        },
        "id": "K4b68EdyvfG1",
        "outputId": "431b2383-481a-4ff6-809b-f34fa3c42e5b"
      },
      "id": "K4b68EdyvfG1",
      "execution_count": null,
      "outputs": [
        {
          "output_type": "stream",
          "name": "stdout",
          "text": [
            "\u001b[31mERROR: Could not find a version that satisfies the requirement model_utils (from versions: none)\u001b[0m\u001b[31m\n",
            "\u001b[0m\u001b[31mERROR: No matching distribution found for model_utils\u001b[0m\u001b[31m\n",
            "\u001b[0m"
          ]
        }
      ]
    },
    {
      "cell_type": "code",
      "execution_count": null,
      "metadata": {
        "colab": {
          "base_uri": "https://localhost:8080/"
        },
        "id": "IpQxHt4lGUkR",
        "outputId": "e8fa6c56-49a1-48e0-b26d-3fafe45fe9dd"
      },
      "outputs": [
        {
          "output_type": "stream",
          "name": "stdout",
          "text": [
            "Requirement already satisfied: torch in /usr/local/lib/python3.10/dist-packages (from -r requirements.txt (line 1)) (2.1.0+cu121)\n",
            "Requirement already satisfied: torchvision in /usr/local/lib/python3.10/dist-packages (from -r requirements.txt (line 2)) (0.16.0+cu121)\n",
            "Requirement already satisfied: einops in /usr/local/lib/python3.10/dist-packages (from -r requirements.txt (line 3)) (0.7.0)\n",
            "Requirement already satisfied: opencv-python in /usr/local/lib/python3.10/dist-packages (from -r requirements.txt (line 4)) (4.8.0.76)\n",
            "Requirement already satisfied: numpy in /usr/local/lib/python3.10/dist-packages (from -r requirements.txt (line 5)) (1.23.5)\n",
            "Requirement already satisfied: tqdm in /usr/local/lib/python3.10/dist-packages (from -r requirements.txt (line 6)) (4.66.1)\n",
            "Requirement already satisfied: filelock in /usr/local/lib/python3.10/dist-packages (from torch->-r requirements.txt (line 1)) (3.13.1)\n",
            "Requirement already satisfied: typing-extensions in /usr/local/lib/python3.10/dist-packages (from torch->-r requirements.txt (line 1)) (4.5.0)\n",
            "Requirement already satisfied: sympy in /usr/local/lib/python3.10/dist-packages (from torch->-r requirements.txt (line 1)) (1.12)\n",
            "Requirement already satisfied: networkx in /usr/local/lib/python3.10/dist-packages (from torch->-r requirements.txt (line 1)) (3.2.1)\n",
            "Requirement already satisfied: jinja2 in /usr/local/lib/python3.10/dist-packages (from torch->-r requirements.txt (line 1)) (3.1.2)\n",
            "Requirement already satisfied: fsspec in /usr/local/lib/python3.10/dist-packages (from torch->-r requirements.txt (line 1)) (2023.6.0)\n",
            "Requirement already satisfied: triton==2.1.0 in /usr/local/lib/python3.10/dist-packages (from torch->-r requirements.txt (line 1)) (2.1.0)\n",
            "Requirement already satisfied: requests in /usr/local/lib/python3.10/dist-packages (from torchvision->-r requirements.txt (line 2)) (2.31.0)\n",
            "Requirement already satisfied: pillow!=8.3.*,>=5.3.0 in /usr/local/lib/python3.10/dist-packages (from torchvision->-r requirements.txt (line 2)) (9.4.0)\n",
            "Requirement already satisfied: MarkupSafe>=2.0 in /usr/local/lib/python3.10/dist-packages (from jinja2->torch->-r requirements.txt (line 1)) (2.1.3)\n",
            "Requirement already satisfied: charset-normalizer<4,>=2 in /usr/local/lib/python3.10/dist-packages (from requests->torchvision->-r requirements.txt (line 2)) (3.3.2)\n",
            "Requirement already satisfied: idna<4,>=2.5 in /usr/local/lib/python3.10/dist-packages (from requests->torchvision->-r requirements.txt (line 2)) (3.6)\n",
            "Requirement already satisfied: urllib3<3,>=1.21.1 in /usr/local/lib/python3.10/dist-packages (from requests->torchvision->-r requirements.txt (line 2)) (2.0.7)\n",
            "Requirement already satisfied: certifi>=2017.4.17 in /usr/local/lib/python3.10/dist-packages (from requests->torchvision->-r requirements.txt (line 2)) (2023.11.17)\n",
            "Requirement already satisfied: mpmath>=0.19 in /usr/local/lib/python3.10/dist-packages (from sympy->torch->-r requirements.txt (line 1)) (1.3.0)\n"
          ]
        }
      ],
      "source": [
        "!pip install -r requirements.txt"
      ],
      "id": "IpQxHt4lGUkR"
    },
    {
      "cell_type": "code",
      "execution_count": null,
      "metadata": {
        "id": "b2c0cc45"
      },
      "outputs": [],
      "source": [
        "import argparse\n",
        "import torch\n",
        "import torch.nn as nn\n",
        "import torch.nn.functional as F\n",
        "import torch.optim as optim\n",
        "import torchvision\n",
        "import torchvision.transforms as T\n",
        "import numpy\n",
        "import cv2\n",
        "import sys\n",
        "import os\n",
        "import numpy as np\n",
        "import random\n",
        "import glob\n",
        "from matplotlib import pyplot as plt\n",
        "\n",
        "from utils import read_image, dice_metric, xor_metric, hm_metric, create_mask, cross_entropy\n",
        "from model_utils import Encoder, DWConv, ProjectionHead, MixFFN_skip, CrossAttentionBlock\n",
        "\n",
        "from einops import rearrange\n",
        "from einops.layers.torch import Rearrange"
      ],
      "id": "b2c0cc45"
    },
    {
      "cell_type": "code",
      "execution_count": null,
      "metadata": {
        "id": "Qn4RnRnaGTaS"
      },
      "outputs": [],
      "source": [],
      "id": "Qn4RnRnaGTaS"
    },
    {
      "cell_type": "code",
      "execution_count": null,
      "metadata": {
        "id": "oTK1g-M3GTWv"
      },
      "outputs": [],
      "source": [],
      "id": "oTK1g-M3GTWv"
    },
    {
      "cell_type": "code",
      "execution_count": null,
      "metadata": {
        "id": "eSJWT4YQGTUF"
      },
      "outputs": [],
      "source": [],
      "id": "eSJWT4YQGTUF"
    },
    {
      "cell_type": "code",
      "execution_count": null,
      "metadata": {
        "id": "ms2bugjEGTHh"
      },
      "outputs": [],
      "source": [],
      "id": "ms2bugjEGTHh"
    },
    {
      "cell_type": "code",
      "execution_count": null,
      "metadata": {
        "id": "62a6f1f4"
      },
      "outputs": [],
      "source": [
        "use_cuda = torch.cuda.is_available()\n",
        "\n",
        "parser = argparse.ArgumentParser(description='FuseNet: Self-Supervised Dual-Path Network for Medical Image Segmentation')\n",
        "parser.add_argument('--nChannel', metavar='N', default=64, type=int,\n",
        "                    help='number of channels')\n",
        "parser.add_argument('--maxIter', metavar='T', default=50, type=int,\n",
        "                    help='number of maximum iterations')\n",
        "parser.add_argument('--minLabels', metavar='minL', default=3, type=int,\n",
        "                    help='minimum number of labels')\n",
        "parser.add_argument('--lr', metavar='LR', default=0.005, type=float,\n",
        "                    help='learning rate')\n",
        "\n",
        "parser.add_argument('--input_path', metavar='INPUT', default='./input_images/',\n",
        "                    help='input image folder path')\n",
        "parser.add_argument('--save_output', metavar='SAVE', default=True,\n",
        "                    help='whether to save output ot not')\n",
        "parser.add_argument('--output_path', metavar='OUTPUT', default='./output/',\n",
        "                    help='output folder path')\n",
        "\n",
        "parser.add_argument('--loss_ce_coef', metavar='CE', default=2.5, type=float,\n",
        "                    help='Cross entropy loss weighting factor')\n",
        "parser.add_argument('--loss_clip_coef', metavar='AT', default=0.5, type=float,\n",
        "                    help='Clip loss weighting factor')\n",
        "parser.add_argument('--loss_b_coef', metavar='Spatial', default=0.5, type=float,\n",
        "                    help='Boundary loss weighting factor')\n",
        "\n",
        "args = parser.parse_args(args=[])"
      ],
      "id": "62a6f1f4"
    },
    {
      "cell_type": "code",
      "execution_count": null,
      "metadata": {
        "id": "eefd34af"
      },
      "outputs": [],
      "source": [
        "if args.save_output:\n",
        "    SAVE_PATH = args.output_path\n",
        "    os.makedirs(SAVE_PATH, exist_ok=True)\n",
        "\n",
        "device = torch.device(\"cuda\" if torch.cuda.is_available() else \"cpu\")"
      ],
      "id": "eefd34af"
    },
    {
      "cell_type": "markdown",
      "metadata": {
        "id": "8af58b72"
      },
      "source": [
        "# Loading Data"
      ],
      "id": "8af58b72"
    },
    {
      "cell_type": "code",
      "execution_count": null,
      "metadata": {
        "id": "4688dcb4"
      },
      "outputs": [],
      "source": [
        "IMG_PATH = args.input_path\n",
        "img_data = sorted(glob.glob(IMG_PATH + 'image_2/*'))\n",
        "lbl_data = sorted(glob.glob(IMG_PATH + 'GT_2/*'))\n"
      ],
      "id": "4688dcb4"
    },
    {
      "cell_type": "code",
      "source": [],
      "metadata": {
        "id": "l8JXCL30mYCS"
      },
      "id": "l8JXCL30mYCS",
      "execution_count": null,
      "outputs": []
    },
    {
      "cell_type": "code",
      "source": [
        "import cv2\n",
        "import numpy as np\n",
        "from google.colab.patches import cv2_imshow\n",
        "\n",
        "# Load the image\n",
        "image = cv2.imread(\"/content/drive/MyDrive/FuseNet-main/input_images/GT/B0050_0028.png\")\n",
        "\n",
        "# Check if the image is loaded successfully\n",
        "if image is None:\n",
        "  print(\"Image not found\")\n",
        "else:\n",
        "  # Perform scalar multiplication\n",
        "  scalar = 64\n",
        "  result = np.clip(image * scalar, 0, 255).astype(np.uint8)\n",
        "\n",
        "  # Display the original and modified images\n",
        "\n",
        "  cv2_imshow( result)\n",
        "  cv2.waitKey(0)"
      ],
      "metadata": {
        "colab": {
          "base_uri": "https://localhost:8080/"
        },
        "id": "4e4ibM8ejgJs",
        "outputId": "1e8fd94c-9a73-4d27-98bb-51d74dab6c08"
      },
      "id": "4e4ibM8ejgJs",
      "execution_count": null,
      "outputs": [
        {
          "output_type": "stream",
          "name": "stdout",
          "text": [
            "Image not found\n"
          ]
        }
      ]
    },
    {
      "cell_type": "code",
      "source": [],
      "metadata": {
        "id": "0-6Ww79lj2tW"
      },
      "id": "0-6Ww79lj2tW",
      "execution_count": null,
      "outputs": []
    },
    {
      "cell_type": "code",
      "execution_count": null,
      "metadata": {
        "colab": {
          "base_uri": "https://localhost:8080/"
        },
        "id": "2d188db8",
        "outputId": "a1b833ca-02a1-453f-99e2-4b9eb9b53875"
      },
      "outputs": [
        {
          "output_type": "execute_result",
          "data": {
            "text/plain": [
              "(3, 3)"
            ]
          },
          "metadata": {},
          "execution_count": 12
        }
      ],
      "source": [
        "len(img_data), len(lbl_data)"
      ],
      "id": "2d188db8"
    },
    {
      "cell_type": "markdown",
      "metadata": {
        "id": "d29d88f9"
      },
      "source": [
        "# Model"
      ],
      "id": "d29d88f9"
    },
    {
      "cell_type": "code",
      "execution_count": null,
      "metadata": {
        "id": "e7d3b082"
      },
      "outputs": [],
      "source": [
        "class Model(nn.Module):\n",
        "    \"\"\"\n",
        "    Args:\n",
        "        input_dim (int): Dimension of the input data.\n",
        "        image_embed (int): Dimension of the image embeddings.\n",
        "        augmented_embed (int): Dimension of the augmented image embeddings.\n",
        "        input_size (tuple): Tuple representing the input size of the images (height, width).\n",
        "        temperature (float): Temperature parameter to scale CLIP matrix.\n",
        "        dropout (float): Dropout rate applied in the projection heads.\n",
        "        beta (int): Downsampling factor.\n",
        "        alpha (int): Scaling factor applied to the main path in the cross-attention block.\n",
        "    \"\"\"\n",
        "    def __init__(self, input_dim, image_embed, augmented_embed, input_size=(256, 256),\n",
        "                 temperature=5.0, dropout=0.1, beta=16, alpha=3):\n",
        "        super(Model, self).__init__()\n",
        "\n",
        "        input_H, input_W = input_size\n",
        "        self.H = input_H\n",
        "\n",
        "        self.beta = 16  # Downsampling factor\n",
        "        self.alpha = 3  # Main path scaling factor\n",
        "        self.img_enc = Encoder(input_dim, image_embed)\n",
        "        self.aug_enc = Encoder(input_dim, image_embed)\n",
        "\n",
        "        self.image_projection = ProjectionHead(embedding_dim=image_embed, projection_dim=image_embed, dropout=dropout)\n",
        "        self.aug_projection = ProjectionHead(embedding_dim=augmented_embed, projection_dim=augmented_embed, dropout=dropout)\n",
        "        self.temperature = temperature\n",
        "\n",
        "        self.cross_attn = CrossAttentionBlock(in_channels=image_embed, key_channels=image_embed,\n",
        "                                              value_channels=image_embed, height=input_H, width=input_W)\n",
        "\n",
        "\n",
        "        self.patch_size = self.H//8 #32\n",
        "        self.dim = image_embed\n",
        "        patch_dim = self.dim * self.patch_size * self.patch_size\n",
        "\n",
        "        self.to_patch_embedding_img = nn.Sequential(\n",
        "            Rearrange('b (h p1) (w p2) c -> b (h w) (p1 p2 c)', p1 = self.patch_size, p2 = self.patch_size),\n",
        "            nn.Linear(patch_dim, self.dim))\n",
        "\n",
        "        self.to_patch_embedding_aug = nn.Sequential(\n",
        "            Rearrange('b (h p1) (w p2) c -> b (h w) (p1 p2 c)', p1 = self.patch_size, p2 = self.patch_size),\n",
        "            nn.Linear(patch_dim, self.dim))\n",
        "\n",
        "        self.bn1 = nn.BatchNorm2d(image_embed)\n",
        "        self.bn2 = nn.BatchNorm2d(image_embed)\n",
        "\n",
        "\n",
        "    def forward(self, x, augmented_x):\n",
        "\n",
        "        # extract feature representations of each modality\n",
        "        img_f = self.img_enc(x)\n",
        "        aug_f = self.img_enc(augmented_x)\n",
        "\n",
        "        img_f = rearrange(img_f, 'b c h w -> b (h w) c')\n",
        "        aug_f = rearrange(aug_f, 'b c h w -> b (h w) c')\n",
        "\n",
        "        # Getting Image and augmented image Embeddings (with same dimension)\n",
        "        img_e = self.image_projection(img_f)\n",
        "        aug_e = self.aug_projection(aug_f)\n",
        "\n",
        "        # Calculating CLIP\n",
        "        img_e_r = self.bn1(rearrange(img_e, 'b (h w) c -> b c h w', h=self.H)).permute(0, 2, 3, 1)\n",
        "        aug_e_r = self.bn2(rearrange(aug_e, 'b (h w) c -> b c h w', h=self.H)).permute(0, 2, 3, 1)\n",
        "\n",
        "        img_e_patch = self.to_patch_embedding_img(img_e_r)\n",
        "        aug_e_patch = self.to_patch_embedding_aug(aug_e_r)\n",
        "\n",
        "        img_e_norm = img_e_patch / img_e_patch.norm(dim=-1, keepdim=True)\n",
        "        aug_e_norm = aug_e_patch / aug_e_patch.norm(dim=-1, keepdim=True)\n",
        "\n",
        "        clip_sim = (img_e_norm @ aug_e_norm.mT) / self.temperature\n",
        "        img_e_sim = img_e_norm @ img_e_norm.mT\n",
        "        aug_e_sim = aug_e_norm @ aug_e_norm.mT\n",
        "        clip_targets = F.softmax((img_e_sim + aug_e_sim) / 2 * self.temperature, dim=-1)\n",
        "\n",
        "        # Cross attention\n",
        "        attn_1 = self.cross_attn(img_e*self.alpha, aug_e*0.8)\n",
        "        attn_2 = self.cross_attn(aug_e*0.8, img_e*self.alpha)\n",
        "\n",
        "        attn = attn_1 + attn_2\n",
        "\n",
        "        _, edge1 = torch.max(attn, 1)\n",
        "        attn_down = torchvision.transforms.functional.resize(attn, 256//self.beta, antialias=True)\n",
        "        attn_up = torchvision.transforms.functional.resize(attn_down, 256, antialias=True)\n",
        "        _, edge2 = torch.max(attn_up, 1)\n",
        "        edge = edge1 - edge2\n",
        "\n",
        "        return edge, attn, clip_sim, clip_targets\n"
      ],
      "id": "e7d3b082"
    },
    {
      "cell_type": "markdown",
      "metadata": {
        "id": "e45e692c"
      },
      "source": [
        "# Training"
      ],
      "id": "e45e692c"
    },
    {
      "cell_type": "code",
      "execution_count": null,
      "metadata": {
        "id": "e4808e95"
      },
      "outputs": [],
      "source": [
        "img_size = 256"
      ],
      "id": "e4808e95"
    },
    {
      "cell_type": "code",
      "execution_count": null,
      "metadata": {
        "colab": {
          "base_uri": "https://localhost:8080/",
          "height": 1000
        },
        "id": "a4a4c435",
        "scrolled": false,
        "outputId": "375bdd7f-7c0e-4fe1-f984-bd03e406daa7"
      },
      "outputs": [
        {
          "output_type": "stream",
          "name": "stdout",
          "text": [
            "0 / 50 |  label num: 47  | loss: 8.0766 | CE: 1.7162 | CLIP: 2.0803 | B: 4.2801\n",
            "1 / 50 |  label num: 39  | loss: 5.2529 | CE: 0.4606 | CLIP: 2.0752 | B: 2.7171\n",
            "2 / 50 |  label num: 34  | loss: 5.185 | CE: 0.2598 | CLIP: 2.0639 | B: 2.8612\n",
            "3 / 50 |  label num: 28  | loss: 5.0307 | CE: 0.1709 | CLIP: 2.0525 | B: 2.8072\n",
            "4 / 50 |  label num: 26  | loss: 4.8863 | CE: 0.1278 | CLIP: 2.0444 | B: 2.7141\n",
            "5 / 50 |  label num: 25  | loss: 4.7745 | CE: 0.1064 | CLIP: 2.0389 | B: 2.6292\n",
            "6 / 50 |  label num: 18  | loss: 4.5781 | CE: 0.0781 | CLIP: 2.0318 | B: 2.4682\n",
            "7 / 50 |  label num: 15  | loss: 4.4634 | CE: 0.0544 | CLIP: 2.0279 | B: 2.3811\n",
            "8 / 50 |  label num: 9  | loss: 4.408 | CE: 0.0388 | CLIP: 2.025 | B: 2.3442\n",
            "9 / 50 |  label num: 9  | loss: 4.3757 | CE: 0.0315 | CLIP: 2.0222 | B: 2.3219\n",
            "10 / 50 |  label num: 9  | loss: 4.3472 | CE: 0.0287 | CLIP: 2.0206 | B: 2.2979\n",
            "11 / 50 |  label num: 6  | loss: 4.3481 | CE: 0.0253 | CLIP: 2.0187 | B: 2.3042\n",
            "12 / 50 |  label num: 6  | loss: 4.3153 | CE: 0.0241 | CLIP: 2.017 | B: 2.2743\n",
            "13 / 50 |  label num: 6  | loss: 4.3106 | CE: 0.0221 | CLIP: 2.016 | B: 2.2725\n",
            "14 / 50 |  label num: 5  | loss: 4.2904 | CE: 0.0213 | CLIP: 2.0149 | B: 2.2542\n",
            "15 / 50 |  label num: 5  | loss: 4.2826 | CE: 0.0198 | CLIP: 2.0136 | B: 2.2492\n",
            "16 / 50 |  label num: 5  | loss: 4.2654 | CE: 0.0188 | CLIP: 2.0128 | B: 2.2338\n",
            "17 / 50 |  label num: 4  | loss: 4.2422 | CE: 0.018 | CLIP: 2.0118 | B: 2.2125\n",
            "18 / 50 |  label num: 4  | loss: 4.2033 | CE: 0.0166 | CLIP: 2.0105 | B: 2.1762\n",
            "19 / 50 |  label num: 4  | loss: 4.2224 | CE: 0.0155 | CLIP: 2.0097 | B: 2.1972\n",
            "20 / 50 |  label num: 4  | loss: 4.2138 | CE: 0.0141 | CLIP: 2.0089 | B: 2.1908\n",
            "21 / 50 |  label num: 4  | loss: 4.2171 | CE: 0.0134 | CLIP: 2.0081 | B: 2.1956\n",
            "22 / 50 |  label num: 4  | loss: 4.2009 | CE: 0.013 | CLIP: 2.0072 | B: 2.1807\n",
            "23 / 50 |  label num: 4  | loss: 4.2148 | CE: 0.0121 | CLIP: 2.0065 | B: 2.1961\n",
            "24 / 50 |  label num: 4  | loss: 4.1965 | CE: 0.0123 | CLIP: 2.0057 | B: 2.1785\n",
            "25 / 50 |  label num: 4  | loss: 4.2153 | CE: 0.0115 | CLIP: 2.0049 | B: 2.1989\n",
            "26 / 50 |  label num: 4  | loss: 4.209 | CE: 0.0113 | CLIP: 2.0043 | B: 2.1934\n",
            "27 / 50 |  label num: 4  | loss: 4.2185 | CE: 0.0116 | CLIP: 2.0036 | B: 2.2034\n",
            "28 / 50 |  label num: 4  | loss: 4.2423 | CE: 0.0115 | CLIP: 2.0028 | B: 2.228\n",
            "29 / 50 |  label num: 4  | loss: 4.2255 | CE: 0.0113 | CLIP: 2.0022 | B: 2.2119\n",
            "30 / 50 |  label num: 4  | loss: 4.2235 | CE: 0.0103 | CLIP: 2.0016 | B: 2.2116\n",
            "31 / 50 |  label num: 4  | loss: 4.2157 | CE: 0.0106 | CLIP: 2.0009 | B: 2.2041\n",
            "32 / 50 |  label num: 4  | loss: 4.2367 | CE: 0.0104 | CLIP: 2.0003 | B: 2.2259\n",
            "33 / 50 |  label num: 4  | loss: 4.2206 | CE: 0.0103 | CLIP: 1.9999 | B: 2.2103\n",
            "34 / 50 |  label num: 4  | loss: 4.2141 | CE: 0.0104 | CLIP: 1.9994 | B: 2.2044\n",
            "35 / 50 |  label num: 4  | loss: 4.2161 | CE: 0.0105 | CLIP: 1.9993 | B: 2.2063\n",
            "36 / 50 |  label num: 4  | loss: 4.2233 | CE: 0.0102 | CLIP: 1.9988 | B: 2.2142\n",
            "37 / 50 |  label num: 4  | loss: 4.2204 | CE: 0.0102 | CLIP: 1.9986 | B: 2.2117\n",
            "38 / 50 |  label num: 4  | loss: 4.2168 | CE: 0.0104 | CLIP: 1.9982 | B: 2.2083\n",
            "39 / 50 |  label num: 4  | loss: 4.2142 | CE: 0.0101 | CLIP: 1.9979 | B: 2.2062\n",
            "40 / 50 |  label num: 4  | loss: 4.2098 | CE: 0.0101 | CLIP: 1.9977 | B: 2.202\n",
            "41 / 50 |  label num: 4  | loss: 4.2037 | CE: 0.0101 | CLIP: 1.9974 | B: 2.1962\n",
            "42 / 50 |  label num: 4  | loss: 4.2246 | CE: 0.0099 | CLIP: 1.9971 | B: 2.2176\n",
            "43 / 50 |  label num: 4  | loss: 4.2137 | CE: 0.0098 | CLIP: 1.9971 | B: 2.2068\n",
            "44 / 50 |  label num: 4  | loss: 4.2188 | CE: 0.0096 | CLIP: 1.9968 | B: 2.2124\n",
            "45 / 50 |  label num: 4  | loss: 4.2287 | CE: 0.0098 | CLIP: 1.9967 | B: 2.2222\n",
            "46 / 50 |  label num: 4  | loss: 4.2254 | CE: 0.0096 | CLIP: 1.9964 | B: 2.2195\n",
            "47 / 50 |  label num: 4  | loss: 4.2278 | CE: 0.0097 | CLIP: 1.9963 | B: 2.2217\n",
            "48 / 50 |  label num: 4  | loss: 4.2353 | CE: 0.0096 | CLIP: 1.9961 | B: 2.2296\n",
            "49 / 50 |  label num: 4  | loss: 4.238 | CE: 0.01 | CLIP: 1.9959 | B: 2.2322\n"
          ]
        },
        {
          "output_type": "stream",
          "name": "stderr",
          "text": [
            "WARNING:matplotlib.image:Clipping input data to the valid range for imshow with RGB data ([0..1] for floats or [0..255] for integers).\n"
          ]
        },
        {
          "output_type": "display_data",
          "data": {
            "text/plain": [
              "<Figure size 800x800 with 4 Axes>"
            ],
            "image/png": "[encoded data removed]"
          },
          "metadata": {}
        },
        {
          "output_type": "stream",
          "name": "stdout",
          "text": [
            "------------------------------- \n",
            "\n",
            "0 / 50 |  label num: 38  | loss: 8.1753 | CE: 1.3156 | CLIP: 2.075 | B: 4.7848\n",
            "1 / 50 |  label num: 36  | loss: 5.5311 | CE: 0.4011 | CLIP: 2.0569 | B: 3.0731\n",
            "2 / 50 |  label num: 39  | loss: 5.2857 | CE: 0.2846 | CLIP: 2.0409 | B: 2.9602\n",
            "3 / 50 |  label num: 35  | loss: 4.1982 | CE: 0.1578 | CLIP: 2.0352 | B: 2.0051\n",
            "4 / 50 |  label num: 30  | loss: 3.6818 | CE: 0.094 | CLIP: 2.0305 | B: 1.5574\n",
            "5 / 50 |  label num: 24  | loss: 3.4661 | CE: 0.0707 | CLIP: 2.0267 | B: 1.3686\n",
            "6 / 50 |  label num: 20  | loss: 3.2654 | CE: 0.0477 | CLIP: 2.0236 | B: 1.1941\n",
            "7 / 50 |  label num: 16  | loss: 3.1626 | CE: 0.0317 | CLIP: 2.0212 | B: 1.1097\n",
            "8 / 50 |  label num: 14  | loss: 3.073 | CE: 0.0246 | CLIP: 2.0195 | B: 1.029\n",
            "9 / 50 |  label num: 13  | loss: 3.0119 | CE: 0.0192 | CLIP: 2.0183 | B: 0.9743\n",
            "10 / 50 |  label num: 9  | loss: 2.9243 | CE: 0.0142 | CLIP: 2.0177 | B: 0.8924\n",
            "11 / 50 |  label num: 7  | loss: 2.8917 | CE: 0.0122 | CLIP: 2.0171 | B: 0.8624\n",
            "12 / 50 |  label num: 6  | loss: 2.8671 | CE: 0.0115 | CLIP: 2.0161 | B: 0.8394\n",
            "13 / 50 |  label num: 6  | loss: 2.8457 | CE: 0.0112 | CLIP: 2.0154 | B: 0.819\n",
            "14 / 50 |  label num: 6  | loss: 2.8314 | CE: 0.0104 | CLIP: 2.0147 | B: 0.8063\n",
            "15 / 50 |  label num: 6  | loss: 2.8285 | CE: 0.0105 | CLIP: 2.014 | B: 0.804\n",
            "16 / 50 |  label num: 5  | loss: 2.8285 | CE: 0.0095 | CLIP: 2.0135 | B: 0.8055\n",
            "17 / 50 |  label num: 6  | loss: 2.8262 | CE: 0.0085 | CLIP: 2.0128 | B: 0.8048\n",
            "18 / 50 |  label num: 6  | loss: 2.8229 | CE: 0.0076 | CLIP: 2.0123 | B: 0.8029\n",
            "19 / 50 |  label num: 6  | loss: 2.8224 | CE: 0.0073 | CLIP: 2.0118 | B: 0.8033\n",
            "20 / 50 |  label num: 5  | loss: 2.8265 | CE: 0.0067 | CLIP: 2.0113 | B: 0.8084\n",
            "21 / 50 |  label num: 5  | loss: 2.8241 | CE: 0.0063 | CLIP: 2.0108 | B: 0.8069\n",
            "22 / 50 |  label num: 5  | loss: 2.8241 | CE: 0.006 | CLIP: 2.0106 | B: 0.8075\n",
            "23 / 50 |  label num: 4  | loss: 2.8229 | CE: 0.0053 | CLIP: 2.0103 | B: 0.8073\n",
            "24 / 50 |  label num: 4  | loss: 2.8188 | CE: 0.0054 | CLIP: 2.0098 | B: 0.8036\n",
            "25 / 50 |  label num: 5  | loss: 2.8266 | CE: 0.0052 | CLIP: 2.0096 | B: 0.8118\n",
            "26 / 50 |  label num: 6  | loss: 2.8167 | CE: 0.0049 | CLIP: 2.0094 | B: 0.8025\n",
            "27 / 50 |  label num: 5  | loss: 2.8197 | CE: 0.0048 | CLIP: 2.0091 | B: 0.8058\n",
            "28 / 50 |  label num: 5  | loss: 2.8206 | CE: 0.0044 | CLIP: 2.0089 | B: 0.8073\n",
            "29 / 50 |  label num: 5  | loss: 2.8244 | CE: 0.0042 | CLIP: 2.0085 | B: 0.8117\n",
            "30 / 50 |  label num: 5  | loss: 2.8228 | CE: 0.0041 | CLIP: 2.0084 | B: 0.8103\n",
            "31 / 50 |  label num: 5  | loss: 2.827 | CE: 0.0039 | CLIP: 2.0082 | B: 0.8149\n",
            "32 / 50 |  label num: 5  | loss: 2.8247 | CE: 0.0038 | CLIP: 2.008 | B: 0.8129\n",
            "33 / 50 |  label num: 5  | loss: 2.826 | CE: 0.0037 | CLIP: 2.0077 | B: 0.8146\n",
            "34 / 50 |  label num: 5  | loss: 2.8296 | CE: 0.0039 | CLIP: 2.0076 | B: 0.8182\n",
            "35 / 50 |  label num: 5  | loss: 2.8263 | CE: 0.0038 | CLIP: 2.0074 | B: 0.8152\n",
            "36 / 50 |  label num: 5  | loss: 2.8287 | CE: 0.0035 | CLIP: 2.0073 | B: 0.8178\n",
            "37 / 50 |  label num: 5  | loss: 2.83 | CE: 0.0036 | CLIP: 2.0071 | B: 0.8193\n",
            "38 / 50 |  label num: 5  | loss: 2.8307 | CE: 0.0035 | CLIP: 2.007 | B: 0.8203\n",
            "39 / 50 |  label num: 5  | loss: 2.8326 | CE: 0.0034 | CLIP: 2.0069 | B: 0.8223\n",
            "40 / 50 |  label num: 5  | loss: 2.8292 | CE: 0.0032 | CLIP: 2.0068 | B: 0.8192\n",
            "41 / 50 |  label num: 5  | loss: 2.8314 | CE: 0.0032 | CLIP: 2.0067 | B: 0.8215\n",
            "42 / 50 |  label num: 4  | loss: 2.8365 | CE: 0.003 | CLIP: 2.0065 | B: 0.8269\n",
            "43 / 50 |  label num: 5  | loss: 2.8338 | CE: 0.0033 | CLIP: 2.0064 | B: 0.8241\n",
            "44 / 50 |  label num: 5  | loss: 2.8361 | CE: 0.0031 | CLIP: 2.0064 | B: 0.8266\n",
            "45 / 50 |  label num: 5  | loss: 2.8397 | CE: 0.003 | CLIP: 2.0062 | B: 0.8305\n",
            "46 / 50 |  label num: 5  | loss: 2.8404 | CE: 0.0029 | CLIP: 2.0062 | B: 0.8313\n",
            "47 / 50 |  label num: 5  | loss: 2.8419 | CE: 0.0029 | CLIP: 2.0061 | B: 0.8328\n",
            "48 / 50 |  label num: 5  | loss: 2.8377 | CE: 0.0029 | CLIP: 2.006 | B: 0.8288\n",
            "49 / 50 |  label num: 5  | loss: 2.8459 | CE: 0.0031 | CLIP: 2.0059 | B: 0.837\n"
          ]
        },
        {
          "output_type": "display_data",
          "data": {
            "text/plain": [
              "<Figure size 800x800 with 4 Axes>"
            ],
            "image/png": "[encoded data removed]"
          },
          "metadata": {}
        },
        {
          "output_type": "stream",
          "name": "stdout",
          "text": [
            "------------------------------- \n",
            "\n",
            "0 / 50 |  label num: 61  | loss: 10.1586 | CE: 1.9781 | CLIP: 2.0812 | B: 6.0993\n",
            "1 / 50 |  label num: 54  | loss: 6.0016 | CE: 0.2957 | CLIP: 2.0493 | B: 3.6567\n",
            "2 / 50 |  label num: 47  | loss: 4.7136 | CE: 0.1617 | CLIP: 2.0293 | B: 2.5226\n",
            "3 / 50 |  label num: 42  | loss: 4.0507 | CE: 0.1042 | CLIP: 2.0221 | B: 1.9243\n",
            "4 / 50 |  label num: 37  | loss: 3.8514 | CE: 0.0721 | CLIP: 2.0162 | B: 1.7632\n",
            "5 / 50 |  label num: 31  | loss: 3.739 | CE: 0.0556 | CLIP: 2.0115 | B: 1.6718\n",
            "6 / 50 |  label num: 26  | loss: 3.686 | CE: 0.0415 | CLIP: 2.0073 | B: 1.6372\n",
            "7 / 50 |  label num: 21  | loss: 3.6576 | CE: 0.0316 | CLIP: 2.0045 | B: 1.6216\n",
            "8 / 50 |  label num: 14  | loss: 3.6255 | CE: 0.0244 | CLIP: 2.0028 | B: 1.5983\n",
            "9 / 50 |  label num: 14  | loss: 3.6001 | CE: 0.0186 | CLIP: 2.0016 | B: 1.5799\n",
            "10 / 50 |  label num: 10  | loss: 3.579 | CE: 0.013 | CLIP: 2.0011 | B: 1.5649\n",
            "11 / 50 |  label num: 9  | loss: 3.5703 | CE: 0.0096 | CLIP: 2.0006 | B: 1.5602\n",
            "12 / 50 |  label num: 8  | loss: 3.5615 | CE: 0.0076 | CLIP: 2.0 | B: 1.5539\n",
            "13 / 50 |  label num: 8  | loss: 3.5585 | CE: 0.0062 | CLIP: 1.9994 | B: 1.5529\n",
            "14 / 50 |  label num: 7  | loss: 3.5474 | CE: 0.0051 | CLIP: 1.999 | B: 1.5433\n",
            "15 / 50 |  label num: 7  | loss: 3.5469 | CE: 0.0044 | CLIP: 1.9983 | B: 1.5442\n",
            "16 / 50 |  label num: 5  | loss: 3.5427 | CE: 0.0039 | CLIP: 1.9978 | B: 1.541\n",
            "17 / 50 |  label num: 6  | loss: 3.5387 | CE: 0.0033 | CLIP: 1.9972 | B: 1.5382\n",
            "18 / 50 |  label num: 3  | loss: 3.5399 | CE: 0.0029 | CLIP: 1.9968 | B: 1.5402\n",
            "Number of labels have reached 3\n"
          ]
        },
        {
          "output_type": "display_data",
          "data": {
            "text/plain": [
              "<Figure size 800x800 with 4 Axes>"
            ],
            "image/png": "[encoded data removed]"
          },
          "metadata": {}
        },
        {
          "output_type": "stream",
          "name": "stdout",
          "text": [
            "------------------------------- \n",
            "\n"
          ]
        }
      ],
      "source": [
        "for img_num, img_file in enumerate(img_data):\n",
        "\n",
        "    ##### Read image #####\n",
        "    image = read_image(img_file, img_size).to(device)\n",
        "\n",
        "    ##### Laod Model #####\n",
        "    model = Model(input_dim=3, image_embed=64, augmented_embed=64,\n",
        "                  input_size=(img_size, img_size), temperature=5.0, dropout=0.1,\n",
        "                  beta=16, alpha=3).to(device)\n",
        "    model.train()\n",
        "\n",
        "    ##### Setteings #####\n",
        "    zero_img = torch.zeros(image.shape[2], image.shape[3]).to(device)\n",
        "\n",
        "    loss_ce = torch.nn.CrossEntropyLoss()\n",
        "    loss_s = torch.nn.L1Loss()\n",
        "\n",
        "    optimizer = optim.SGD(model.parameters(), lr=args.lr, momentum=0.9)\n",
        "    label_colours = np.random.randint(255, size=(128, 3))\n",
        "\n",
        "\n",
        "    jitter = T.ColorJitter(brightness=[1.4, 1.4], hue=[-0.06, -0.06])\n",
        "    aug_img = jitter(image)\n",
        "    aug_img = T.GaussianBlur(kernel_size=(5, 9), sigma=(0.1, 5))(aug_img)\n",
        "    aug_img = aug_img.to(device)\n",
        "\n",
        "    ##### Training #####\n",
        "    for batch_idx in range(args.maxIter):\n",
        "\n",
        "        optimizer.zero_grad()\n",
        "        edge, output, clip_logits, clip_targets = model(image, aug_img)\n",
        "\n",
        "        ### Output\n",
        "        output, clip_logits, clip_targets = output[0], clip_logits[0], clip_targets[0]\n",
        "        output = output.permute(1, 2, 0).contiguous().view(-1, args.nChannel*2)\n",
        "\n",
        "        _, target = torch.max(output, 1)\n",
        "        img_target = target.data.cpu().numpy()\n",
        "        img_target_rgb = np.array([label_colours[c % args.nChannel] for c in img_target])\n",
        "        img_target_rgb = img_target_rgb.reshape(image.shape[2], image.shape[3], image.shape[1]).astype(np.uint8)\n",
        "\n",
        "        ### Cross-entropy loss function\n",
        "        loss_ce_value = args.loss_ce_coef * loss_ce(output, target)\n",
        "\n",
        "        ### Boundary Loss\n",
        "        loss_edge = args.loss_b_coef * loss_s(edge[0], zero_img)\n",
        "\n",
        "        ### CLIP loss\n",
        "        aug_loss = cross_entropy(clip_logits, clip_targets, 'mean')\n",
        "        img_loss = cross_entropy(clip_logits.T, clip_targets.T, 'mean')\n",
        "        loss_clip = args.loss_clip_coef * ((img_loss + aug_loss) / 2.0)\n",
        "\n",
        "        ### Optimization\n",
        "        loss = loss_ce_value + loss_clip + loss_edge\n",
        "        loss.backward()\n",
        "        optimizer.step()\n",
        "\n",
        "\n",
        "        nLabels = len(np.unique(img_target))\n",
        "        print(batch_idx, '/', args.maxIter, '|', ' label num:', nLabels, ' | loss:', round(loss.item(), 4),\n",
        "                '| CE:', round(loss_ce_value.item(), 4), '| CLIP:', round(loss_clip.item(), 4),\n",
        "                '| B:', round(loss_edge.item(), 4))\n",
        "\n",
        "        if nLabels <= args.minLabels and batch_idx>=5:\n",
        "            print (f\"Number of labels have reached {nLabels}\")\n",
        "            break\n",
        "\n",
        "\n",
        "    ##### Evaluate #####\n",
        "    edge, output, _, _ = model(image, aug_img)\n",
        "    output = output[0].permute(1, 2, 0).contiguous().view(-1, args.nChannel*2)\n",
        "    _, target = torch.max(output, 1)\n",
        "    img_target = target.data.cpu().numpy()\n",
        "    img_eval_output = np.array([label_colours[c % args.nChannel] for c in img_target])\n",
        "    img_eval_output = img_eval_output.reshape(image.shape[2], image.shape[3], image.shape[1]).astype(np.uint8)\n",
        "\n",
        "\n",
        "    ##### Visualization #####\n",
        "    fig, axes = plt.subplots(1, 4, figsize=(8, 8))\n",
        "    axes[0].imshow(img_eval_output)\n",
        "    axes[1].imshow(image[0].permute(1, 2, 0).cpu().detach().numpy()[..., ::-1])\n",
        "    axes[2].imshow(aug_img[0].permute(1, 2, 0).cpu().detach().numpy()[...,::-1])\n",
        "    axes[3].imshow(edge[0].cpu().detach().numpy())\n",
        "    axes[0].set_title('Prediction')\n",
        "    axes[1].set_title('Input Image')\n",
        "    axes[2].set_title('Augmented Image')\n",
        "    axes[3].set_title('Edge SR')\n",
        "    axes[0].axis('off')\n",
        "    axes[1].axis('off')\n",
        "    axes[2].axis('off')\n",
        "    axes[3].axis('off')\n",
        "    plt.show()\n",
        "\n",
        "    if args.save_output:\n",
        "        name = os.path.basename(img_file).split('.')[0]\n",
        "        cv2.imwrite(SAVE_PATH + '/FuseNet_mask_' + name + '.png', img_eval_output)\n",
        "        cv2.imwrite(SAVE_PATH + '/FuseNet_img_' + name + '.png', image[0].permute(1, 2, 0).cpu().detach().numpy()*255)\n",
        "        cv2.imwrite(SAVE_PATH + '/FuseNet_aug_' + name + '.png', aug_img[0].permute(1, 2, 0).cpu().detach().numpy()*255)\n",
        "\n",
        "    print('-------------------------------', '\\n')"
      ],
      "id": "a4a4c435"
    },
    {
      "cell_type": "code",
      "source": [
        "\n",
        "def calculate_dice_coefficient(mask1, mask2):\n",
        "    intersection = np.sum(np.logical_and(mask1, mask2))\n",
        "    union = np.sum(np.logical_or(mask1, mask2))\n",
        "    dice_coefficient = (20000.0 * intersection) / (union + intersection)\n",
        "    return dice_coefficient\n",
        "\n",
        "def calculate_hausdorff_distance(mask1, mask2):\n",
        "    contours1, _ = cv2.findContours(mask1.astype(np.uint8), cv2.RETR_EXTERNAL, cv2.CHAIN_APPROX_SIMPLE)\n",
        "    contours2, _ = cv2.findContours(mask2.astype(np.uint8), cv2.RETR_EXTERNAL, cv2.CHAIN_APPROX_SIMPLE)\n",
        "\n",
        "    if len(contours1) == 0 or len(contours2) == 0:\n",
        "        return float('inf')\n",
        "\n",
        "    dist1 = cv2.matchShapes(contours1[0], contours2[0], cv2.CONTOURS_MATCH_I2, 0.0)\n",
        "    dist2 = cv2.matchShapes(contours2[0], contours1[0], cv2.CONTOURS_MATCH_I2, 0.0)\n",
        "\n",
        "    hausdorff_distance = max(dist1, dist2)\n",
        "    return hausdorff_distance\n",
        "\n",
        "def calculate_xor_similarity(mask1, mask2):\n",
        "    xor_result = np.logical_xor(mask1, mask2)\n",
        "    xor_similarity = 1.0 - np.sum(xor_result) / float(mask1.size)\n",
        "    return xor_similarity"
      ],
      "metadata": {
        "id": "gyPVe5-uYCjq"
      },
      "id": "gyPVe5-uYCjq",
      "execution_count": null,
      "outputs": []
    },
    {
      "cell_type": "code",
      "source": [
        "from PIL import Image\n",
        "import os\n",
        "import glob\n",
        "\n",
        "IMG_PATH = '/content/drive/MyDrive/FuseNet-main/input_images/image_2'\n",
        "OUT_IMG_PATH = '/content/drive/MyDrive/FuseNet-main/input_images/GT_2'\n",
        "\n",
        "# Get the sorted list of image files in the input folder\n",
        "input_image_files = sorted(glob.glob(os.path.join(IMG_PATH, '.bmp')) + glob.glob(os.path.join(IMG_PATH, '.png')) + glob.glob(os.path.join(IMG_PATH, '.jpg')) + glob.glob(os.path.join(IMG_PATH, '.jpeg')))\n",
        "\n",
        "# Get the sorted list of image files in the output folder\n",
        "output_image_files = sorted(glob.glob(os.path.join(OUT_IMG_PATH, '.bmp')) + glob.glob(os.path.join(OUT_IMG_PATH, '.png')) + glob.glob(os.path.join(OUT_IMG_PATH, '.jpg')) + glob.glob(os.path.join(OUT_IMG_PATH, '.jpeg')))\n",
        "\n",
        "# Initialize vectors to store images\n",
        "input_images = []\n",
        "output_images = []\n",
        "\n",
        "# Load and store each image in the input folder\n",
        "for image_file in input_image_files:\n",
        "    image = Image.open(image_file)\n",
        "    input_images.append(image)\n",
        "\n",
        "# Load, convert to grayscale, and store each image in the output folder\n",
        "for image_file in output_image_files:\n",
        "    image = Image.open(image_file)\n",
        "    # Convert to grayscale\n",
        "    gray_image = image.convert('L')\n",
        "    output_images.append(gray_image)"
      ],
      "metadata": {
        "id": "aHJhgZRQAIcp"
      },
      "id": "aHJhgZRQAIcp",
      "execution_count": null,
      "outputs": []
    },
    {
      "cell_type": "code",
      "source": [
        "import matplotlib.pyplot as plt\n",
        "\n",
        "# Assuming input_images and output_images are populated as in your code\n",
        "\n",
        "# Function to plot pairs of images side by side\n",
        "def plot_images_side_by_side(input_image, output_image):\n",
        "    plt.figure(figsize=(8, 4))\n",
        "\n",
        "    # Plot the input image\n",
        "    plt.subplot(1, 2, 1)\n",
        "    plt.imshow(input_image)\n",
        "    plt.title('Input Image')\n",
        "\n",
        "    # Plot the output image\n",
        "    plt.subplot(1, 2, 2)\n",
        "    plt.imshow(output_image)\n",
        "    plt.title('Output Image')\n",
        "\n",
        "    # Adjust layout to prevent overlapping\n",
        "    plt.tight_layout()\n",
        "\n",
        "    # Show the plot\n",
        "    plt.show()\n",
        "\n",
        "# Plot the first few pairs of images\n",
        "num_images_to_plot = 15  # Adjust as needed\n",
        "for i in range(min(num_images_to_plot, len(input_images))):\n",
        "    plot_images_side_by_side(input_images[i+4], output_images[i])"
      ],
      "metadata": {
        "id": "HOzXBicbARwq"
      },
      "id": "HOzXBicbARwq",
      "execution_count": null,
      "outputs": []
    },
    {
      "cell_type": "code",
      "source": [
        "from skimage.metrics import hausdorff_distance, adapted_rand_error\n",
        "import numpy as np\n",
        "from PIL import Image\n",
        "import matplotlib.pyplot as plt\n",
        "\n",
        "# Assuming input_images and output_images are populated as in the previous code\n",
        "\n",
        "# Define a function to convert colored images to binary masks\n",
        "def convert_to_binary_mask(image, threshold=0.5):\n",
        "    grayscale_image = image.convert('L')\n",
        "    array_image = np.array(grayscale_image)\n",
        "    binary_mask = (array_image > threshold).astype(int)\n",
        "    return binary_mask\n",
        "\n",
        "# Define a new function using thresholding for better binary mask creation\n",
        "def threshold_binary_mask(image, threshold=110):\n",
        "    grayscale_image = image.convert('L')\n",
        "    array_image = np.array(grayscale_image)\n",
        "    binary_mask = (array_image > threshold).astype(int)\n",
        "    return binary_mask\n",
        "\n",
        "# Calculate metrics for the first 5 images\n",
        "num_images_to_process = 5  # Adjust as needed\n",
        "\n",
        "# Initialize lists to store metric values\n",
        "dsc_values = []\n",
        "hm_values = []\n",
        "xor_error_values = []\n",
        "\n",
        "for i in range(min(num_images_to_process, len(input_images))):\n",
        "    binary_input = threshold_binary_mask(input_images[i+4])\n",
        "    binary_output = threshold_binary_mask(output_images[i])\n",
        "\n",
        "    # Ensure that binary masks have the same shape\n",
        "    if binary_input.shape != binary_output.shape:\n",
        "        target_shape = max(binary_input.shape, binary_output.shape)\n",
        "        binary_input = (binary_input * 255).astype(np.uint8)\n",
        "        binary_output = (binary_output * 255).astype(np.uint8)\n",
        "        binary_input = np.array(Image.fromarray(binary_input).resize(target_shape[::-1]))\n",
        "        binary_output = np.array(Image.fromarray(binary_output).resize(target_shape[::-1]))\n",
        "\n",
        "    # Plot binary masks\n",
        "    plt.subplot(1, 2, 1)\n",
        "    plt.imshow(binary_input, cmap='gray')\n",
        "    plt.title('Binary Input')\n",
        "\n",
        "    plt.subplot(1, 2, 2)\n",
        "    plt.imshow(binary_output, cmap='gray')\n",
        "    plt.title('Binary Output')\n",
        "\n",
        "    plt.show()\n",
        "\n",
        "    # Calculate metrics for each pair of images\n",
        "    dsc = dice_coefficient(binary_input, binary_output)\n",
        "    hm = hausdorff_distance(binary_input, binary_output)\n",
        "    xor_error = adapted_rand_error(binary_input.ravel(), binary_output.ravel())\n",
        "\n",
        "    # Append the calculated metrics to the lists\n",
        "    dsc_values.append(dsc)\n",
        "    hm_values.append(hm)\n",
        "    xor_error_values.append(xor_error)\n",
        "\n",
        "    # Print calculated metrics\n",
        "    print(f\"DSC: {dsc}, HM: {hm}, XOR: {xor_error}\")\n",
        "\n",
        "# Calculate average values\n",
        "avg_dsc = np.mean(dsc_values)\n",
        "avg_hm = np.mean(hm_values)\n",
        "avg_xor_error = np.mean(xor_error_values)\n",
        "\n",
        "print(f\"\\nAverage Dice Similarity Coefficient (DSC): {avg_dsc}\")\n",
        "print(f\"Average Hausdorff Distance (HM): {avg_hm}\")\n",
        "print(f\"Average XOR Error: {avg_xor_error}\")"
      ],
      "metadata": {
        "colab": {
          "base_uri": "https://localhost:8080/"
        },
        "id": "_XTE7F-gAczE",
        "outputId": "d1fdef08-4c7f-44a2-e15c-ac902ba4163e"
      },
      "id": "_XTE7F-gAczE",
      "execution_count": null,
      "outputs": [
        {
          "output_type": "stream",
          "name": "stdout",
          "text": [
            "\n",
            "Average Dice Similarity Coefficient (DSC): nan\n",
            "Average Hausdorff Distance (HM): nan\n",
            "Average XOR Error: nan\n"
          ]
        }
      ]
    },
    {
      "cell_type": "code",
      "source": [],
      "metadata": {
        "id": "uXdGhaCyAhtU"
      },
      "id": "uXdGhaCyAhtU",
      "execution_count": null,
      "outputs": []
    }
  ],
  "metadata": {
    "colab": {
      "provenance": [],
      "gpuType": "T4",
      "toc_visible": true,
      "include_colab_link": true
    },
    "kernelspec": {
      "display_name": "Python 3",
      "name": "python3"
    },
    "language_info": {
      "codemirror_mode": {
        "name": "ipython",
        "version": 3
      },
      "file_extension": ".py",
      "mimetype": "text/x-python",
      "name": "python",
      "nbconvert_exporter": "python",
      "pygments_lexer": "ipython3",
      "version": "3.11.3"
    },
    "accelerator": "GPU"
  },
  "nbformat": 4,
  "nbformat_minor": 5
}